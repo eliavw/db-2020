{
 "cells": [
  {
   "cell_type": "markdown",
   "metadata": {},
   "source": [
    "# Verification\n",
    "\n",
    "# Imports"
   ]
  },
  {
   "cell_type": "code",
   "execution_count": null,
   "metadata": {},
   "outputs": [],
   "source": [
    "# De benodigde packages\n",
    "import getpass         # Package om een paswoordveldje te genereren.\n",
    "import mysql.connector # MySQL package\n",
    "import os\n",
    "import sys\n",
    "import pandas as pd\n",
    "\n",
    "from IPython.display import display, Markdown\n",
    "from os.path import dirname\n",
    "\n",
    "# Imports van binnen onze eigen repository (verbetertools)\n",
    "this_dir = os.getcwd()\n",
    "root_dir = dirname(this_dir)\n",
    "docs_dir = os.path.join(root_dir, 'docs')\n",
    "source_dir = os.path.join(root_dir, 'src')\n",
    "script_dir = os.path.join(root_dir, 'scripts')\n",
    "solution_dir = os.path.join(root_dir, 'solution')\n",
    "sys.path.append(source_dir)\n",
    "\n",
    "import db_project\n",
    "from db_project import (\n",
    "    verbind_met_GB,\n",
    "    run_query,\n",
    "    res_to_df,\n",
    "    run_external_script,\n",
    "    evaluate_script,\n",
    "    parse_markdown\n",
    ") \n",
    "\n",
    "verification_file = os.path.join(docs_dir, '05-verification.md')"
   ]
  },
  {
   "cell_type": "code",
   "execution_count": null,
   "metadata": {},
   "outputs": [],
   "source": [
    "display(Markdown(parse_markdown(verification_file, section_number=[1,2]))) # Lees tekst in uit docs folder."
   ]
  },
  {
   "cell_type": "code",
   "execution_count": null,
   "metadata": {},
   "outputs": [],
   "source": [
    "# STAP 01: Verbindingsobject aanmaken\n",
    "\n",
    "username = 'root'      # Vervang dit als je via een andere user queries stuurt\n",
    "hostname = 'localhost' # Als je een databank lokaal draait, is dit localhost.\n",
    "db = 'db-project'          # Naam van de gegevensbank op je XAMPP Mysql server\n",
    "\n",
    "# We verbinden met de gegevensbank\n",
    "c = verbind_met_GB(username, hostname, db, password='')"
   ]
  },
  {
   "cell_type": "code",
   "execution_count": null,
   "metadata": {},
   "outputs": [],
   "source": [
    "# STAP 02: Specifieer filename (vul jouw filename hier dus in!)\n",
    "\n",
    "filename = os.path.join(script_dir, 'demo_solution_DELETEME.py')"
   ]
  },
  {
   "cell_type": "code",
   "execution_count": null,
   "metadata": {},
   "outputs": [],
   "source": [
    "# STAP 03: Run je oplossingen\n",
    "\n",
    "run_external_script(filename, c, params_fname=\"demo_q_params.json\")"
   ]
  },
  {
   "cell_type": "code",
   "execution_count": null,
   "metadata": {},
   "outputs": [],
   "source": [
    "display(Markdown(parse_markdown(verification_file, section_number=3)))"
   ]
  },
  {
   "cell_type": "code",
   "execution_count": null,
   "metadata": {},
   "outputs": [],
   "source": [
    "print(evaluate_script(filename,  params_fname=\"demo_q_params.json\"))"
   ]
  },
  {
   "cell_type": "code",
   "execution_count": null,
   "metadata": {},
   "outputs": [],
   "source": [
    "display(Markdown(parse_markdown(verification_file, section_number=4)))"
   ]
  }
 ],
 "metadata": {
  "kernelspec": {
   "display_name": "db-2020",
   "language": "python",
   "name": "db-2020"
  },
  "language_info": {
   "codemirror_mode": {
    "name": "ipython",
    "version": 3
   },
   "file_extension": ".py",
   "mimetype": "text/x-python",
   "name": "python",
   "nbconvert_exporter": "python",
   "pygments_lexer": "ipython3",
   "version": "3.8.1"
  },
  "toc": {
   "nav_menu": {},
   "number_sections": true,
   "sideBar": true,
   "skip_h1_title": true,
   "title_cell": "Table of Contents",
   "title_sidebar": "Contents",
   "toc_cell": false,
   "toc_position": {},
   "toc_section_display": true,
   "toc_window_display": true
  }
 },
 "nbformat": 4,
 "nbformat_minor": 4
}
