{
 "cells": [
  {
   "cell_type": "markdown",
   "metadata": {},
   "source": [
    "# Verification\n",
    "\n",
    "# Imports"
   ]
  },
  {
   "cell_type": "code",
   "execution_count": 1,
   "metadata": {},
   "outputs": [],
   "source": [
    "# De benodigde packages\n",
    "import getpass         # Package om een paswoordveldje te genereren.\n",
    "import mysql.connector # MySQL package\n",
    "import os\n",
    "import sys\n",
    "import pandas as pd\n",
    "\n",
    "from IPython.display import display, Markdown\n",
    "from os.path import dirname\n",
    "\n",
    "# Imports van binnen onze eigen repository (verbetertools)\n",
    "this_dir = os.getcwd()\n",
    "root_dir = dirname(this_dir)\n",
    "docs_dir = os.path.join(root_dir, 'docs')\n",
    "source_dir = os.path.join(root_dir, 'src')\n",
    "script_dir = os.path.join(root_dir, 'scripts')\n",
    "solution_dir = os.path.join(root_dir, 'solution')\n",
    "sys.path.append(source_dir)\n",
    "\n",
    "import db_project\n",
    "from db_project import (\n",
    "    verbind_met_GB,\n",
    "    run_query,\n",
    "    res_to_df,\n",
    "    run_external_script,\n",
    "    evaluate_script,\n",
    "    parse_markdown\n",
    ") \n",
    "\n",
    "verification_file = os.path.join(docs_dir, '05-verification.md')"
   ]
  },
  {
   "cell_type": "code",
   "execution_count": 2,
   "metadata": {},
   "outputs": [
    {
     "data": {
      "text/markdown": [
       "## 1. Inleiding\n",
       "\n",
       "In deze notebook kan je je oplossingen voor de eerste 3 queries testen. \n",
       "\n",
       "- Eerst wordt je script automatisch gerund met verschillende parameters\n",
       "- De resultaten worden opgeslagen in `.csv` files (in de `out` folder)\n",
       "- Die `.csv` files worden vergeleken met de `.csv` files van de oplossing (te vinden in de `solution` folder).\n",
       "- Elke query krijgt een score toegekend. Cf. https://en.wikipedia.org/wiki/F1_score.  \n",
       "- Een kort rapport wordt weergegeven die je pointers kan geven over wat er mis is met je query. \n",
       "    - TP: True Positives\n",
       "    - TN: True Negatives\n",
       "    - FP: False Positives\n",
       "    \n",
       "Na release van de modeloplossingen kan je natuurlijk alles controleren.\n",
       "    \n",
       "## 2. Uitvoeren\n",
       "\n",
       "Dit proces bestaat uit 3 stappen.\n",
       "\n",
       "1. Eerst dien je terug verbinding te maken met de gegevensbank.\n",
       "2. Dan dien je de filename van je ingevulde script in te vullen. Je \"ingevulde script\" is het bestand dat **ALLE INGEVULDE FUNCTIES EN NIETS ANDERS** bevat. Hieronder importeren we het script `example.py` van in de `scripts` folder.\n",
       "3. Run het script. Dit doen we met behulp van de `run_external_script` functie die we eerder importeerden. (De parameters en de kolomnamen worden automatisch ingelezen uit de `.json` files in de `solution` folder.)\n",
       "    \n",
       "    \n"
      ],
      "text/plain": [
       "<IPython.core.display.Markdown object>"
      ]
     },
     "metadata": {},
     "output_type": "display_data"
    }
   ],
   "source": [
    "display(Markdown(parse_markdown(verification_file, section_number=[1,2]))) # Lees tekst in uit docs folder."
   ]
  },
  {
   "cell_type": "code",
   "execution_count": 3,
   "metadata": {},
   "outputs": [],
   "source": [
    "# STAP 01: Verbindingsobject aanmaken\n",
    "\n",
    "username = 'root'      # Vervang dit als je via een andere user queries stuurt\n",
    "hostname = 'localhost' # Als je een databank lokaal draait, is dit localhost.\n",
    "db = 'db-project'          # Naam van de gegevensbank op je XAMPP Mysql server\n",
    "\n",
    "# We verbinden met de gegevensbank\n",
    "c = verbind_met_GB(username, hostname, db, password='')"
   ]
  },
  {
   "cell_type": "code",
   "execution_count": 4,
   "metadata": {},
   "outputs": [],
   "source": [
    "# STAP 02: Specifieer filename (vul jouw filename hier dus in!)\n",
    "\n",
    "filename = os.path.join(script_dir, 'demo_solution_DELETEME.py')"
   ]
  },
  {
   "cell_type": "code",
   "execution_count": 5,
   "metadata": {},
   "outputs": [
    {
     "ename": "FileNotFoundError",
     "evalue": "[Errno 2] No such file or directory: '/home/zissou/repos/db-2020-dev/scripts/demo_solution_DELETEME.py'",
     "output_type": "error",
     "traceback": [
      "\u001b[0;31m---------------------------------------------------------------------------\u001b[0m",
      "\u001b[0;31mFileNotFoundError\u001b[0m                         Traceback (most recent call last)",
      "\u001b[0;32m<ipython-input-5-e381cff150bd>\u001b[0m in \u001b[0;36m<module>\u001b[0;34m\u001b[0m\n\u001b[1;32m      3\u001b[0m \u001b[0mparams_filename\u001b[0m \u001b[0;34m=\u001b[0m \u001b[0;34m\"all_q_params.json\"\u001b[0m\u001b[0;34m\u001b[0m\u001b[0;34m\u001b[0m\u001b[0m\n\u001b[1;32m      4\u001b[0m \u001b[0;34m\u001b[0m\u001b[0m\n\u001b[0;32m----> 5\u001b[0;31m \u001b[0mrun_external_script\u001b[0m\u001b[0;34m(\u001b[0m\u001b[0mfilename\u001b[0m\u001b[0;34m,\u001b[0m \u001b[0mc\u001b[0m\u001b[0;34m,\u001b[0m \u001b[0mparams_fname\u001b[0m\u001b[0;34m=\u001b[0m\u001b[0mparams_filename\u001b[0m\u001b[0;34m)\u001b[0m\u001b[0;34m\u001b[0m\u001b[0;34m\u001b[0m\u001b[0m\n\u001b[0m",
      "\u001b[0;32m~/repos/db-2020-dev/src/db_project/execution.py\u001b[0m in \u001b[0;36mrun_external_script\u001b[0;34m(fname, connection, all_q_colnam, all_q_params, q_idx, report, solution, params_fname, suffix)\u001b[0m\n\u001b[1;32m     61\u001b[0m     \u001b[0;31m# with redirect_stdout(f):\u001b[0m\u001b[0;34m\u001b[0m\u001b[0;34m\u001b[0m\u001b[0;34m\u001b[0m\u001b[0m\n\u001b[1;32m     62\u001b[0m     \u001b[0;32mif\u001b[0m \u001b[0mq_idx\u001b[0m \u001b[0;32mis\u001b[0m \u001b[0;32mNone\u001b[0m\u001b[0;34m:\u001b[0m\u001b[0;34m\u001b[0m\u001b[0;34m\u001b[0m\u001b[0m\n\u001b[0;32m---> 63\u001b[0;31m         _, all_q_names, all_q_method, all_q_colnam, all_q_params = before_execution(\n\u001b[0m\u001b[1;32m     64\u001b[0m             \u001b[0mfname\u001b[0m\u001b[0;34m,\u001b[0m\u001b[0;34m\u001b[0m\u001b[0;34m\u001b[0m\u001b[0m\n\u001b[1;32m     65\u001b[0m             \u001b[0mfs\u001b[0m\u001b[0;34m=\u001b[0m\u001b[0mfs\u001b[0m\u001b[0;34m,\u001b[0m\u001b[0;34m\u001b[0m\u001b[0;34m\u001b[0m\u001b[0m\n",
      "\u001b[0;32m~/repos/db-2020-dev/src/db_project/execution.py\u001b[0m in \u001b[0;36mbefore_execution\u001b[0;34m(fname, fs, all_q_colnam, all_q_params, q_idx, solution)\u001b[0m\n\u001b[1;32m    154\u001b[0m ):\n\u001b[1;32m    155\u001b[0m \u001b[0;34m\u001b[0m\u001b[0m\n\u001b[0;32m--> 156\u001b[0;31m     \u001b[0mfs\u001b[0m\u001b[0;34m,\u001b[0m \u001b[0mmodule\u001b[0m \u001b[0;34m=\u001b[0m \u001b[0mprepare_execution\u001b[0m\u001b[0;34m(\u001b[0m\u001b[0mfname\u001b[0m\u001b[0;34m,\u001b[0m \u001b[0mfs\u001b[0m\u001b[0;34m=\u001b[0m\u001b[0mfs\u001b[0m\u001b[0;34m)\u001b[0m\u001b[0;34m\u001b[0m\u001b[0;34m\u001b[0m\u001b[0m\n\u001b[0m\u001b[1;32m    157\u001b[0m \u001b[0;34m\u001b[0m\u001b[0m\n\u001b[1;32m    158\u001b[0m     \u001b[0;32mif\u001b[0m \u001b[0mall_q_colnam\u001b[0m \u001b[0;32mis\u001b[0m \u001b[0;32mNone\u001b[0m\u001b[0;34m:\u001b[0m\u001b[0;34m\u001b[0m\u001b[0;34m\u001b[0m\u001b[0m\n",
      "\u001b[0;32m~/repos/db-2020-dev/src/db_project/execution.py\u001b[0m in \u001b[0;36mprepare_execution\u001b[0;34m(fname, fs, **kwargs)\u001b[0m\n\u001b[1;32m    145\u001b[0m         \u001b[0mensure_dir\u001b[0m\u001b[0;34m(\u001b[0m\u001b[0md\u001b[0m\u001b[0;34m)\u001b[0m\u001b[0;34m\u001b[0m\u001b[0;34m\u001b[0m\u001b[0m\n\u001b[1;32m    146\u001b[0m \u001b[0;34m\u001b[0m\u001b[0m\n\u001b[0;32m--> 147\u001b[0;31m     \u001b[0mmodule\u001b[0m \u001b[0;34m=\u001b[0m \u001b[0mload_external_script\u001b[0m\u001b[0;34m(\u001b[0m\u001b[0mfs\u001b[0m\u001b[0;34m[\u001b[0m\u001b[0;34m\"file\"\u001b[0m\u001b[0;34m]\u001b[0m\u001b[0;34m[\u001b[0m\u001b[0;34m\"script\"\u001b[0m\u001b[0;34m]\u001b[0m\u001b[0;34m,\u001b[0m \u001b[0mmod_name\u001b[0m\u001b[0;34m=\u001b[0m\u001b[0mfs\u001b[0m\u001b[0;34m[\u001b[0m\u001b[0;34m\"identifier\"\u001b[0m\u001b[0;34m]\u001b[0m\u001b[0;34m)\u001b[0m\u001b[0;34m\u001b[0m\u001b[0;34m\u001b[0m\u001b[0m\n\u001b[0m\u001b[1;32m    148\u001b[0m \u001b[0;34m\u001b[0m\u001b[0m\n\u001b[1;32m    149\u001b[0m     \u001b[0;32mreturn\u001b[0m \u001b[0mfs\u001b[0m\u001b[0;34m,\u001b[0m \u001b[0mmodule\u001b[0m\u001b[0;34m\u001b[0m\u001b[0;34m\u001b[0m\u001b[0m\n",
      "\u001b[0;32m~/repos/db-2020-dev/src/db_project/execution.py\u001b[0m in \u001b[0;36mload_external_script\u001b[0;34m(fname, mod_name)\u001b[0m\n\u001b[1;32m    337\u001b[0m     \u001b[0mspec\u001b[0m \u001b[0;34m=\u001b[0m \u001b[0miu\u001b[0m\u001b[0;34m.\u001b[0m\u001b[0mspec_from_file_location\u001b[0m\u001b[0;34m(\u001b[0m\u001b[0mmod_name\u001b[0m\u001b[0;34m,\u001b[0m \u001b[0mfname\u001b[0m\u001b[0;34m)\u001b[0m\u001b[0;34m\u001b[0m\u001b[0;34m\u001b[0m\u001b[0m\n\u001b[1;32m    338\u001b[0m     \u001b[0mmodule\u001b[0m \u001b[0;34m=\u001b[0m \u001b[0miu\u001b[0m\u001b[0;34m.\u001b[0m\u001b[0mmodule_from_spec\u001b[0m\u001b[0;34m(\u001b[0m\u001b[0mspec\u001b[0m\u001b[0;34m)\u001b[0m\u001b[0;34m\u001b[0m\u001b[0;34m\u001b[0m\u001b[0m\n\u001b[0;32m--> 339\u001b[0;31m     \u001b[0mspec\u001b[0m\u001b[0;34m.\u001b[0m\u001b[0mloader\u001b[0m\u001b[0;34m.\u001b[0m\u001b[0mexec_module\u001b[0m\u001b[0;34m(\u001b[0m\u001b[0mmodule\u001b[0m\u001b[0;34m)\u001b[0m\u001b[0;34m\u001b[0m\u001b[0;34m\u001b[0m\u001b[0m\n\u001b[0m\u001b[1;32m    340\u001b[0m \u001b[0;34m\u001b[0m\u001b[0m\n\u001b[1;32m    341\u001b[0m     \u001b[0;31m# Add helper methods, since they are not explicitly in the script\u001b[0m\u001b[0;34m\u001b[0m\u001b[0;34m\u001b[0m\u001b[0;34m\u001b[0m\u001b[0m\n",
      "\u001b[0;32m~/miniconda3/envs/db-2020/lib/python3.8/importlib/_bootstrap_external.py\u001b[0m in \u001b[0;36mexec_module\u001b[0;34m(self, module)\u001b[0m\n",
      "\u001b[0;32m~/miniconda3/envs/db-2020/lib/python3.8/importlib/_bootstrap_external.py\u001b[0m in \u001b[0;36mget_code\u001b[0;34m(self, fullname)\u001b[0m\n",
      "\u001b[0;32m~/miniconda3/envs/db-2020/lib/python3.8/importlib/_bootstrap_external.py\u001b[0m in \u001b[0;36mget_data\u001b[0;34m(self, path)\u001b[0m\n",
      "\u001b[0;31mFileNotFoundError\u001b[0m: [Errno 2] No such file or directory: '/home/zissou/repos/db-2020-dev/scripts/demo_solution_DELETEME.py'"
     ]
    }
   ],
   "source": [
    "# STAP 03: Run je oplossingen\n",
    "\n",
    "params_filename = \"all_q_params.json\"\n",
    "\n",
    "run_external_script(filename, c, params_fname=params_filename)"
   ]
  },
  {
   "cell_type": "code",
   "execution_count": null,
   "metadata": {},
   "outputs": [],
   "source": [
    "display(Markdown(parse_markdown(verification_file, section_number=3)))"
   ]
  },
  {
   "cell_type": "code",
   "execution_count": null,
   "metadata": {},
   "outputs": [],
   "source": [
    "print(evaluate_script(filename,  params_fname=params_filename))"
   ]
  },
  {
   "cell_type": "code",
   "execution_count": null,
   "metadata": {},
   "outputs": [],
   "source": [
    "display(Markdown(parse_markdown(verification_file, section_number=4)))"
   ]
  }
 ],
 "metadata": {
  "kernelspec": {
   "display_name": "db-2020",
   "language": "python",
   "name": "db-2020"
  },
  "language_info": {
   "codemirror_mode": {
    "name": "ipython",
    "version": 3
   },
   "file_extension": ".py",
   "mimetype": "text/x-python",
   "name": "python",
   "nbconvert_exporter": "python",
   "pygments_lexer": "ipython3",
   "version": "3.8.1"
  },
  "toc": {
   "nav_menu": {},
   "number_sections": true,
   "sideBar": true,
   "skip_h1_title": true,
   "title_cell": "Table of Contents",
   "title_sidebar": "Contents",
   "toc_cell": false,
   "toc_position": {},
   "toc_section_display": true,
   "toc_window_display": true
  }
 },
 "nbformat": 4,
 "nbformat_minor": 4
}
