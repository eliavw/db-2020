{
 "cells": [
  {
   "cell_type": "markdown",
   "metadata": {},
   "source": [
    "# PROJECT GEGEVENSBANKEN - SQL MODELOPLOSSINGEN\n",
    "\n",
    "# Imports"
   ]
  },
  {
   "cell_type": "code",
   "execution_count": 1,
   "metadata": {
    "hidden": true
   },
   "outputs": [],
   "source": [
    "# Setup\n",
    "import getpass  # Package om een paswoordveldje te genereren.\n",
    "import json  # Package om .json files in te laden (bvb kolomnamen zijn zo opgeslagen)\n",
    "import mysql.connector  # MySQL package\n",
    "import numpy as np\n",
    "import os\n",
    "import pandas as pd  # Populaire package voor data-verwerking\n",
    "import re\n",
    "import sys\n",
    "\n",
    "from inspect import getsource\n",
    "from IPython.display import display, Markdown\n",
    "from os.path import dirname\n",
    "\n",
    "# Imports van binnen onze eigen repository\n",
    "this_dir = os.getcwd()\n",
    "root_dir = dirname(this_dir)\n",
    "docs_dir = os.path.join(root_dir, \"docs\")\n",
    "source_dir = os.path.join(root_dir, \"src\")\n",
    "script_dir = os.path.join(root_dir, \"scripts\")\n",
    "solution_dir = os.path.join(root_dir, \"solution\")\n",
    "\n",
    "sys.path.append(script_dir)\n",
    "sys.path.append(source_dir)\n",
    "\n",
    "import db_project  # onze eigen codebase in deze repository\n",
    "from db_project import (\n",
    "    verbind_met_GB,\n",
    "    run_query,\n",
    "    res_to_df,\n",
    ")  # 3 basic functionalities, explained in introduction.\n",
    "\n",
    "# Text files from which some descriptions are rendered (this helps us to keep everything perfectly consistent across different notebooks etc)\n",
    "introduction_file = os.path.join(docs_dir, \"01-introduction.md\")\n",
    "instructions_file = os.path.join(docs_dir, \"02-instructions.md\")\n",
    "qry_description_file = os.path.join(docs_dir, \"03-qry-descriptions.md\")\n",
    "submissions_file = os.path.join(docs_dir, \"04-submissions.md\")\n",
    "\n",
    "from db_project import parse_markdown"
   ]
  },
  {
   "cell_type": "code",
   "execution_count": 2,
   "metadata": {},
   "outputs": [],
   "source": [
    "# Imports specific to the solution\n",
    "model_solution_dir = os.path.join(root_dir, \"do-not-release-until-ok\")\n",
    "sys.path.append(model_solution_dir)\n",
    "import model_solution as ms # Importeer de file `solution/model_solution.py` als module 'ms'\n",
    "from db_project import collect_relevant_solutions"
   ]
  },
  {
   "cell_type": "code",
   "execution_count": 3,
   "metadata": {},
   "outputs": [
    {
     "data": {
      "text/markdown": [
       "# 1. Inleiding\n",
       "\n",
       "Cf. het document `prerequisites.pdf` in de `docs` folder. \n",
       "\n",
       "## 1.1 Python packages\n",
       "\n",
       "De import statements (cf. boven) vormen de standaardconfiguratie van python-packages die we gebruiken. _Van deze configuratie afwijken is dan ook op eigen risico, gezien dat betekent dat je ook afwijkt van de configuratie van de computer waarop wij jullie oplossingen runnen._\n",
       "\n",
       "## 1.2 Interageren met een gegevensbank\n",
       "\n",
       "Naast de standaard packages, importeren we ook drie zelfgemaakte functies. Deze implementeren functionaliteiten die je vaak zal nodig hebben als je vanuit python queries naar je gegevensbank wil sturen: `verbind_met_GB`, `run_query` en `res_to_df`. Hun source code (en documentatie) bekijken geeft de nodige informatie over hoe ze te gebruiken:\n",
       "    \n",
       "    \n"
      ],
      "text/plain": [
       "<IPython.core.display.Markdown object>"
      ]
     },
     "metadata": {},
     "output_type": "display_data"
    }
   ],
   "source": [
    "display(Markdown(parse_markdown(introduction_file, section_number=[1,2, 3]))) # Tekst en uitleg worden ingelezen uit bestanden uit de `docs` folder."
   ]
  },
  {
   "cell_type": "code",
   "execution_count": 4,
   "metadata": {},
   "outputs": [
    {
     "name": "stdout",
     "output_type": "stream",
     "text": [
      "def verbind_met_GB(username, hostname, gegevensbanknaam, password=None):\n",
      "    \"\"\"\n",
      "    Maak verbinding met een externe gegevensbank\n",
      "\n",
      "    Parameters\n",
      "    ----------\n",
      "\n",
      "    username:           str\n",
      "                        Username van de gebruiker\n",
      "    hostname            str\n",
      "                        Naam van de host. In het geval van lokale server 'localhost'\n",
      "    gegevensbanknaam    str\n",
      "                        Naam van de gegevensbank\n",
      "    password            str, None\n",
      "                        Wachtwoord kan al meegegeven worden. Indien niet, wordt\n",
      "                        een wachtwoordveldje gegenereerd waar de gebruiker het\n",
      "                        kan ingeven.\n",
      "    Returns\n",
      "    -------\n",
      "    connection          connection object\n",
      "                        Dit is het soort object dat wordt teruggeven door\n",
      "                        connect() methods van packages die voldoen aan de DB-API\n",
      "\n",
      "    \"\"\"\n",
      "\n",
      "    if password is None:\n",
      "        password = getpass.getpass()  # Genereer vakje voor wachtwoord in te geven\n",
      "    else:\n",
      "        password = password\n",
      "\n",
      "    connection = mysql.connector.connect(\n",
      "        host=hostname, user=username, passwd=password, db=gegevensbanknaam\n",
      "    )\n",
      "    return connection\n",
      "\n",
      "- --- - --- - --- - --- - --- - --- - - --- - --- - --- - --- - --- - --- -\n",
      "\n",
      "def run_query(connection, query):\n",
      "    \"\"\"\n",
      "    Voer een query uit op een bestaande connection.\n",
      "\n",
      "    Geeft het resultaat van de query terug.\n",
      "\n",
      "    Parameters\n",
      "    ----------\n",
      "    connection      connection object\n",
      "                    Dit is het soort object dat wordt teruggeven door\n",
      "                    connect() methods van packages die voldoen aan de DB-API\n",
      "    query           str\n",
      "                    SQL-query geschreven als een gewone string\n",
      "\n",
      "    Returns\n",
      "    -------\n",
      "\n",
      "    \"\"\"\n",
      "\n",
      "    # Maak een cursor en voer query uit\n",
      "    cursor = connection.cursor()\n",
      "    cursor.execute(query)\n",
      "\n",
      "    # Haal het resultaat op\n",
      "    res = cursor.fetchall()\n",
      "\n",
      "    return res\n",
      "\n",
      "- --- - --- - --- - --- - --- - --- - - --- - --- - --- - --- - --- - --- -\n",
      "\n",
      "def res_to_df(query_result, column_names):\n",
      "    \"\"\"\n",
      "    Zet ruwe output van een query om naar een DataFrame met gegeven kolomnamen.\n",
      "\n",
      "    Let op: Het resultaat van de query moet dus exact evenveel kolommen bevatten\n",
      "    als kolomnamen die je meegeeft. Als dit niet het geval is, is dit een indicatie\n",
      "    dat je oplossing fout is. (Gezien wij de kolomnamen van de oplossing al cadeau doen)\n",
      "\n",
      "    Parameters\n",
      "    ----------\n",
      "    query_result:\n",
      "                    Resultaat van een uitgevoerde query zoals dat gegeven wordt\n",
      "                    door cursor.fetchall()\n",
      "    column_names    list\n",
      "                    Lijst van kolomnamen voor het resulterende DataFrame\n",
      "\n",
      "    Returns\n",
      "    -------\n",
      "    df:             pd.DataFrame\n",
      "                    DataFrame dat het resultaat bevat.\n",
      "\n",
      "    \"\"\"\n",
      "\n",
      "    df = pd.DataFrame(query_result, columns=column_names)\n",
      "    return df\n",
      "\n"
     ]
    }
   ],
   "source": [
    "print(getsource(verbind_met_GB))\n",
    "print('- --- - --- - --- - --- - --- - --- - - --- - --- - --- - --- - --- - --- -\\n')\n",
    "print(getsource(run_query))\n",
    "print('- --- - --- - --- - --- - --- - --- - - --- - --- - --- - --- - --- - --- -\\n')\n",
    "print(getsource(res_to_df))"
   ]
  },
  {
   "cell_type": "code",
   "execution_count": 5,
   "metadata": {},
   "outputs": [
    {
     "data": {
      "text/markdown": [
       "## 1.3 Kolomnamen en input parameters\n",
       "\n",
       "We leggen op voorhand reeds de **kolomnamen van de oplossingen**, en de **naam en types van de inputparameters** vast. Hier moet je je dus aan houden en mag je dus niks aan wijzigen.\n",
       "\n",
       "- Het aantal kolommen (en hun volgorde) van jullie oplossing en de onze moeten exact overeen komen, vandaar dat de kolomnamen hieronder gegeven zijn. Dit komt trouwens van pas bij het opstellen van je queries! \n",
       "    \n",
       "- Dankzij de voorbeeldparameters, die al gegeven zijn in de functiedefinitie e.g.: `query_42(connection, col_names, super_voorbeeldparam = 101)` weten jullie exact welke vorm en type (integer, lijst, etc) de inputparameters moeten hebben. Wijzig zeker niets aan de naam van die parameters (*super_voorbeeldparam* blijft *super_voorbeeldparam*). De default waarden geven op hun beurt dan weer informatie over het type van de inputparameters. Let wel: de (soms onnozele) default waarden zijn _louter ter illustratie_, zorg ervoor dat je query ook met andere waarden dan de defaults werkt!\n",
       "\n",
       "**Samengevat: oplossingen die deze vorm niet respecteren, zullen crashen op onze machines en resulteren in een score van 0 op die query.**\n"
      ],
      "text/plain": [
       "<IPython.core.display.Markdown object>"
      ]
     },
     "metadata": {},
     "output_type": "display_data"
    }
   ],
   "source": [
    "display(Markdown(parse_markdown(introduction_file, section_number=4)))"
   ]
  },
  {
   "cell_type": "code",
   "execution_count": 6,
   "metadata": {},
   "outputs": [
    {
     "data": {
      "text/plain": [
       "{'query_01': ['tname', 'year', 'HomeRun'],\n",
       " 'query_02': ['nameFirst', 'nameLast', 'birthYear', 'birthMonth', 'birthDay'],\n",
       " 'query_03': ['nameFirst', 'nameLast', 'tname'],\n",
       " 'query_04': ['teamID', 'name', 'yearID', 'W', 'L', 'MaxSalary'],\n",
       " 'query_05': ['teamID', 'name', 'yearID', 'rank'],\n",
       " 'query_06': ['playerID', 'nameFirst', 'nameLast'],\n",
       " 'query_07': ['playerID', 'nameFirst', 'nameLast', 'teamID'],\n",
       " 'query_08': ['teamID', 'tname', 'bestyear', 'HR', 'W'],\n",
       " 'query_09': ['teamID', 'tname', 'yearID', 'rank', 'HR'],\n",
       " 'query_10': ['teamId', 'HOFplayercount']}"
      ]
     },
     "execution_count": 6,
     "metadata": {},
     "output_type": "execute_result"
    }
   ],
   "source": [
    "# Inspecteer de dictionairy van kolomnamen\n",
    "\n",
    "filename = os.path.join(solution_dir, 'all_q_colnam.json')\n",
    "col_names = json.load(open(filename, 'r'))    \n",
    "\n",
    "col_names # Inspecteer dictionary"
   ]
  },
  {
   "cell_type": "code",
   "execution_count": 7,
   "metadata": {},
   "outputs": [
    {
     "data": {
      "text/markdown": [
       "# 2. Instructies bij gebruik van de notebook\n",
       "\n",
       "Hieronder volgen 10 onvolledige functies (e.g., `query_42(connection, col_names, super_voorbeeldparam = ['joske', 'jef'])`). Aan jullie om ze aan te vullen zodat de functie:  \n",
       "\n",
       "1. Een corecte query opstelt\n",
       "2. De query uitvoert op de database\n",
       "3. Het resultaat teruggeeft in een DataFrame.\n",
       "\n",
       "Voor stap 2 en 3 zijn de nodige functies al voorhanden, i.e.: `run_query(connection, query)` en `res_to_df(res, column_names)`. Jullie werk zal dus vooral bestaan uit stap 1, queries opstellen. Elke functie heeft minstens 2 inputargumenten:\n",
       "\n",
       "1. `connection`:   Een connection object \n",
       "2. `column_names`: De kolomnamen van het Pandas DataFrame\n",
       "    \n",
       "Gevolgd door eventuele extra argumenten (e.g., `super_voorbeeldparam = ['joske','jef']`) die dienen om parameters in te query te injecteren. \n",
       "\n",
       "**Nogmaals: verander niets aan de namen van de functies, namen van de functie-argumenten en de kolomnamen van de resulterende DataFrames. Wijzigingen hieraan leiden onvermijdelijk tot een score van 0 op die query.**\n",
       "\n",
       "Je kan naar believen extra cellen toevoegen om je queries te testen, resultaten te inspecteren etc. Daar dient deze notebook immers voor, deze notebook wordt **niet ingediend** als oplossing.\n",
       "\n",
       "We vragen jullie om de finale, ingevulde functies te kopiëren naar een extern python script dat _enkel en alleen_ deze ingevulde functies bevat. Cf. de laatste sectie van deze notebook voor instructies omtrent hoe in te dienen.\n",
       "\n",
       "## 2.1 Voorbeeld-query opstellen\n",
       "\n",
       "Om jullie al wat op weg te zetten volgt hier een voorbeeldje over hoe je te werk kan gaan.\n",
       "\n",
       "**Beschrijving**\n",
       "\n",
       "Het resultaat van deze functie is een Pandas DataFrame met teamnaam, jaar en aantal homeruns van teams die meer dan een gegeven aantal `homeruns` hadden in dat jaar.\n",
       "\n",
       "Sorteer aflopend op aantal homeruns.\n",
       "\n",
       "**Oplossing**\n",
       "\n"
      ],
      "text/plain": [
       "<IPython.core.display.Markdown object>"
      ]
     },
     "metadata": {},
     "output_type": "display_data"
    }
   ],
   "source": [
    "display(Markdown(parse_markdown(instructions_file, section_number=[1,2])))"
   ]
  },
  {
   "cell_type": "code",
   "execution_count": 8,
   "metadata": {},
   "outputs": [],
   "source": [
    "# Voorbeeld-query (oplossing)\n",
    "def query_EX(connection, column_names, homeruns=20):\n",
    "    # Bouw je query\n",
    "    query=\"\"\"\n",
    "    select    t.name, t.yearID, t.HR\n",
    "    from      Teams as t\n",
    "    where     t.HR > {}\n",
    "    order by  t.HR DESC;\n",
    "    \"\"\".format(homeruns) # TIP: Zo krijg je parameters in de string (samen met `{}` in de string)\n",
    "    \n",
    "    # Stap 2 & 3\n",
    "    res = run_query(connection, query)         # Query uitvoeren\n",
    "    df = res_to_df(res, column_names)          # Query in DataFrame brengen\n",
    "    \n",
    "    return df"
   ]
  },
  {
   "cell_type": "code",
   "execution_count": 9,
   "metadata": {},
   "outputs": [
    {
     "data": {
      "text/markdown": [
       "## 2.2 Voorbeeld-query runnen\n",
       "\n",
       "Om een query te runnen maken we gebruik van de hulpfunctie die we eerder ter beschikking stelden (e.g. `verbind_met_GB`). Concreet bestaat dit proces uit twee stappen:\n",
       "\n",
       "1. Eerst maken we een verbindingsobject met de databank\n",
       "2. Vervolgens runnen we onze query, en inspecteren we het resultaat.\n"
      ],
      "text/plain": [
       "<IPython.core.display.Markdown object>"
      ]
     },
     "metadata": {},
     "output_type": "display_data"
    }
   ],
   "source": [
    "display(Markdown(parse_markdown(instructions_file, section_number=3)))"
   ]
  },
  {
   "cell_type": "code",
   "execution_count": 10,
   "metadata": {},
   "outputs": [
    {
     "ename": "InterfaceError",
     "evalue": "2003: Can't connect to MySQL server on 'localhost:3306' (111 Connection refused)",
     "output_type": "error",
     "traceback": [
      "\u001b[0;31m---------------------------------------------------------------------------\u001b[0m",
      "\u001b[0;31mConnectionRefusedError\u001b[0m                    Traceback (most recent call last)",
      "\u001b[0;32m~/miniconda3/envs/db-2020/lib/python3.8/site-packages/mysql/connector/network.py\u001b[0m in \u001b[0;36mopen_connection\u001b[0;34m(self)\u001b[0m\n\u001b[1;32m    605\u001b[0m             \u001b[0mself\u001b[0m\u001b[0;34m.\u001b[0m\u001b[0msock\u001b[0m\u001b[0;34m.\u001b[0m\u001b[0msettimeout\u001b[0m\u001b[0;34m(\u001b[0m\u001b[0mself\u001b[0m\u001b[0;34m.\u001b[0m\u001b[0m_connection_timeout\u001b[0m\u001b[0;34m)\u001b[0m\u001b[0;34m\u001b[0m\u001b[0;34m\u001b[0m\u001b[0m\n\u001b[0;32m--> 606\u001b[0;31m             \u001b[0mself\u001b[0m\u001b[0;34m.\u001b[0m\u001b[0msock\u001b[0m\u001b[0;34m.\u001b[0m\u001b[0mconnect\u001b[0m\u001b[0;34m(\u001b[0m\u001b[0msockaddr\u001b[0m\u001b[0;34m)\u001b[0m\u001b[0;34m\u001b[0m\u001b[0;34m\u001b[0m\u001b[0m\n\u001b[0m\u001b[1;32m    607\u001b[0m         \u001b[0;32mexcept\u001b[0m \u001b[0mIOError\u001b[0m \u001b[0;32mas\u001b[0m \u001b[0merr\u001b[0m\u001b[0;34m:\u001b[0m\u001b[0;34m\u001b[0m\u001b[0;34m\u001b[0m\u001b[0m\n",
      "\u001b[0;31mConnectionRefusedError\u001b[0m: [Errno 111] Connection refused",
      "\nDuring handling of the above exception, another exception occurred:\n",
      "\u001b[0;31mInterfaceError\u001b[0m                            Traceback (most recent call last)",
      "\u001b[0;32m<ipython-input-10-a70df866d9de>\u001b[0m in \u001b[0;36m<module>\u001b[0;34m\u001b[0m\n\u001b[1;32m      6\u001b[0m \u001b[0;34m\u001b[0m\u001b[0m\n\u001b[1;32m      7\u001b[0m \u001b[0;31m# We verbinden met de gegevensbank\u001b[0m\u001b[0;34m\u001b[0m\u001b[0;34m\u001b[0m\u001b[0;34m\u001b[0m\u001b[0m\n\u001b[0;32m----> 8\u001b[0;31m \u001b[0mc\u001b[0m \u001b[0;34m=\u001b[0m \u001b[0mverbind_met_GB\u001b[0m\u001b[0;34m(\u001b[0m\u001b[0musername\u001b[0m\u001b[0;34m,\u001b[0m \u001b[0mhostname\u001b[0m\u001b[0;34m,\u001b[0m \u001b[0mdb\u001b[0m\u001b[0;34m,\u001b[0m \u001b[0mpassword\u001b[0m\u001b[0;34m=\u001b[0m\u001b[0;34m''\u001b[0m\u001b[0;34m)\u001b[0m\u001b[0;34m\u001b[0m\u001b[0;34m\u001b[0m\u001b[0m\n\u001b[0m",
      "\u001b[0;32m~/repos/db-2020/src/db_project/basics.py\u001b[0m in \u001b[0;36mverbind_met_GB\u001b[0;34m(username, hostname, gegevensbanknaam, password)\u001b[0m\n\u001b[1;32m     38\u001b[0m         \u001b[0mpassword\u001b[0m \u001b[0;34m=\u001b[0m \u001b[0mpassword\u001b[0m\u001b[0;34m\u001b[0m\u001b[0;34m\u001b[0m\u001b[0m\n\u001b[1;32m     39\u001b[0m \u001b[0;34m\u001b[0m\u001b[0m\n\u001b[0;32m---> 40\u001b[0;31m     connection = mysql.connector.connect(\n\u001b[0m\u001b[1;32m     41\u001b[0m         \u001b[0mhost\u001b[0m\u001b[0;34m=\u001b[0m\u001b[0mhostname\u001b[0m\u001b[0;34m,\u001b[0m \u001b[0muser\u001b[0m\u001b[0;34m=\u001b[0m\u001b[0musername\u001b[0m\u001b[0;34m,\u001b[0m \u001b[0mpasswd\u001b[0m\u001b[0;34m=\u001b[0m\u001b[0mpassword\u001b[0m\u001b[0;34m,\u001b[0m \u001b[0mdb\u001b[0m\u001b[0;34m=\u001b[0m\u001b[0mgegevensbanknaam\u001b[0m\u001b[0;34m\u001b[0m\u001b[0;34m\u001b[0m\u001b[0m\n\u001b[1;32m     42\u001b[0m     )\n",
      "\u001b[0;32m~/miniconda3/envs/db-2020/lib/python3.8/site-packages/mysql/connector/__init__.py\u001b[0m in \u001b[0;36mconnect\u001b[0;34m(*args, **kwargs)\u001b[0m\n\u001b[1;32m    217\u001b[0m     \u001b[0;32mif\u001b[0m \u001b[0mHAVE_CEXT\u001b[0m \u001b[0;32mand\u001b[0m \u001b[0;32mnot\u001b[0m \u001b[0muse_pure\u001b[0m\u001b[0;34m:\u001b[0m\u001b[0;34m\u001b[0m\u001b[0;34m\u001b[0m\u001b[0m\n\u001b[1;32m    218\u001b[0m         \u001b[0;32mreturn\u001b[0m \u001b[0mCMySQLConnection\u001b[0m\u001b[0;34m(\u001b[0m\u001b[0;34m*\u001b[0m\u001b[0margs\u001b[0m\u001b[0;34m,\u001b[0m \u001b[0;34m**\u001b[0m\u001b[0mkwargs\u001b[0m\u001b[0;34m)\u001b[0m\u001b[0;34m\u001b[0m\u001b[0;34m\u001b[0m\u001b[0m\n\u001b[0;32m--> 219\u001b[0;31m     \u001b[0;32mreturn\u001b[0m \u001b[0mMySQLConnection\u001b[0m\u001b[0;34m(\u001b[0m\u001b[0;34m*\u001b[0m\u001b[0margs\u001b[0m\u001b[0;34m,\u001b[0m \u001b[0;34m**\u001b[0m\u001b[0mkwargs\u001b[0m\u001b[0;34m)\u001b[0m\u001b[0;34m\u001b[0m\u001b[0;34m\u001b[0m\u001b[0m\n\u001b[0m\u001b[1;32m    220\u001b[0m \u001b[0mConnect\u001b[0m \u001b[0;34m=\u001b[0m \u001b[0mconnect\u001b[0m  \u001b[0;31m# pylint: disable=C0103\u001b[0m\u001b[0;34m\u001b[0m\u001b[0;34m\u001b[0m\u001b[0m\n\u001b[1;32m    221\u001b[0m \u001b[0;34m\u001b[0m\u001b[0m\n",
      "\u001b[0;32m~/miniconda3/envs/db-2020/lib/python3.8/site-packages/mysql/connector/connection.py\u001b[0m in \u001b[0;36m__init__\u001b[0;34m(self, *args, **kwargs)\u001b[0m\n\u001b[1;32m    102\u001b[0m         \u001b[0;32mif\u001b[0m \u001b[0mkwargs\u001b[0m\u001b[0;34m:\u001b[0m\u001b[0;34m\u001b[0m\u001b[0;34m\u001b[0m\u001b[0m\n\u001b[1;32m    103\u001b[0m             \u001b[0;32mtry\u001b[0m\u001b[0;34m:\u001b[0m\u001b[0;34m\u001b[0m\u001b[0;34m\u001b[0m\u001b[0m\n\u001b[0;32m--> 104\u001b[0;31m                 \u001b[0mself\u001b[0m\u001b[0;34m.\u001b[0m\u001b[0mconnect\u001b[0m\u001b[0;34m(\u001b[0m\u001b[0;34m**\u001b[0m\u001b[0mkwargs\u001b[0m\u001b[0;34m)\u001b[0m\u001b[0;34m\u001b[0m\u001b[0;34m\u001b[0m\u001b[0m\n\u001b[0m\u001b[1;32m    105\u001b[0m             \u001b[0;32mexcept\u001b[0m\u001b[0;34m:\u001b[0m\u001b[0;34m\u001b[0m\u001b[0;34m\u001b[0m\u001b[0m\n\u001b[1;32m    106\u001b[0m                 \u001b[0;31m# Tidy-up underlying socket on failure\u001b[0m\u001b[0;34m\u001b[0m\u001b[0;34m\u001b[0m\u001b[0;34m\u001b[0m\u001b[0m\n",
      "\u001b[0;32m~/miniconda3/envs/db-2020/lib/python3.8/site-packages/mysql/connector/abstracts.py\u001b[0m in \u001b[0;36mconnect\u001b[0;34m(self, **kwargs)\u001b[0m\n\u001b[1;32m    958\u001b[0m \u001b[0;34m\u001b[0m\u001b[0m\n\u001b[1;32m    959\u001b[0m         \u001b[0mself\u001b[0m\u001b[0;34m.\u001b[0m\u001b[0mdisconnect\u001b[0m\u001b[0;34m(\u001b[0m\u001b[0;34m)\u001b[0m\u001b[0;34m\u001b[0m\u001b[0;34m\u001b[0m\u001b[0m\n\u001b[0;32m--> 960\u001b[0;31m         \u001b[0mself\u001b[0m\u001b[0;34m.\u001b[0m\u001b[0m_open_connection\u001b[0m\u001b[0;34m(\u001b[0m\u001b[0;34m)\u001b[0m\u001b[0;34m\u001b[0m\u001b[0;34m\u001b[0m\u001b[0m\n\u001b[0m\u001b[1;32m    961\u001b[0m         \u001b[0;31m# Server does not allow to run any other statement different from ALTER\u001b[0m\u001b[0;34m\u001b[0m\u001b[0;34m\u001b[0m\u001b[0;34m\u001b[0m\u001b[0m\n\u001b[1;32m    962\u001b[0m         \u001b[0;31m# when user's password has been expired.\u001b[0m\u001b[0;34m\u001b[0m\u001b[0;34m\u001b[0m\u001b[0;34m\u001b[0m\u001b[0m\n",
      "\u001b[0;32m~/miniconda3/envs/db-2020/lib/python3.8/site-packages/mysql/connector/connection.py\u001b[0m in \u001b[0;36m_open_connection\u001b[0;34m(self)\u001b[0m\n\u001b[1;32m    286\u001b[0m         \u001b[0mself\u001b[0m\u001b[0;34m.\u001b[0m\u001b[0m_socket\u001b[0m \u001b[0;34m=\u001b[0m \u001b[0mself\u001b[0m\u001b[0;34m.\u001b[0m\u001b[0m_get_connection\u001b[0m\u001b[0;34m(\u001b[0m\u001b[0;34m)\u001b[0m\u001b[0;34m\u001b[0m\u001b[0;34m\u001b[0m\u001b[0m\n\u001b[1;32m    287\u001b[0m         \u001b[0;32mtry\u001b[0m\u001b[0;34m:\u001b[0m\u001b[0;34m\u001b[0m\u001b[0;34m\u001b[0m\u001b[0m\n\u001b[0;32m--> 288\u001b[0;31m             \u001b[0mself\u001b[0m\u001b[0;34m.\u001b[0m\u001b[0m_socket\u001b[0m\u001b[0;34m.\u001b[0m\u001b[0mopen_connection\u001b[0m\u001b[0;34m(\u001b[0m\u001b[0;34m)\u001b[0m\u001b[0;34m\u001b[0m\u001b[0;34m\u001b[0m\u001b[0m\n\u001b[0m\u001b[1;32m    289\u001b[0m             \u001b[0mself\u001b[0m\u001b[0;34m.\u001b[0m\u001b[0m_do_handshake\u001b[0m\u001b[0;34m(\u001b[0m\u001b[0;34m)\u001b[0m\u001b[0;34m\u001b[0m\u001b[0;34m\u001b[0m\u001b[0m\n\u001b[1;32m    290\u001b[0m             self._do_auth(self._user, self._password,\n",
      "\u001b[0;32m~/miniconda3/envs/db-2020/lib/python3.8/site-packages/mysql/connector/network.py\u001b[0m in \u001b[0;36mopen_connection\u001b[0;34m(self)\u001b[0m\n\u001b[1;32m    606\u001b[0m             \u001b[0mself\u001b[0m\u001b[0;34m.\u001b[0m\u001b[0msock\u001b[0m\u001b[0;34m.\u001b[0m\u001b[0mconnect\u001b[0m\u001b[0;34m(\u001b[0m\u001b[0msockaddr\u001b[0m\u001b[0;34m)\u001b[0m\u001b[0;34m\u001b[0m\u001b[0;34m\u001b[0m\u001b[0m\n\u001b[1;32m    607\u001b[0m         \u001b[0;32mexcept\u001b[0m \u001b[0mIOError\u001b[0m \u001b[0;32mas\u001b[0m \u001b[0merr\u001b[0m\u001b[0;34m:\u001b[0m\u001b[0;34m\u001b[0m\u001b[0;34m\u001b[0m\u001b[0m\n\u001b[0;32m--> 608\u001b[0;31m             raise errors.InterfaceError(\n\u001b[0m\u001b[1;32m    609\u001b[0m                 errno=2003, values=(self.get_address(), _strioerror(err)))\n\u001b[1;32m    610\u001b[0m         \u001b[0;32mexcept\u001b[0m \u001b[0mException\u001b[0m \u001b[0;32mas\u001b[0m \u001b[0merr\u001b[0m\u001b[0;34m:\u001b[0m\u001b[0;34m\u001b[0m\u001b[0;34m\u001b[0m\u001b[0m\n",
      "\u001b[0;31mInterfaceError\u001b[0m: 2003: Can't connect to MySQL server on 'localhost:3306' (111 Connection refused)"
     ]
    }
   ],
   "source": [
    "# STAP 01: Verbindingsobject aanmaken\n",
    "\n",
    "username = 'root'      # Vervang dit als je via een andere user queries stuurt\n",
    "hostname = 'localhost' # Als je een databank lokaal draait, is dit localhost.\n",
    "db = 'db-project'          # Naam van de gegevensbank op je XAMPP Mysql server\n",
    "\n",
    "# We verbinden met de gegevensbank\n",
    "c = verbind_met_GB(username, hostname, db, password='')"
   ]
  },
  {
   "cell_type": "code",
   "execution_count": null,
   "metadata": {},
   "outputs": [],
   "source": [
    "# STAP 02: Query runnen, resultaat ophalen en inspecteren.\n",
    "\n",
    "kolomnamen_voorbeeldquery = col_names['query_01']        # Voorbeeldquery heeft dezelfde kolomnamen als query 1.\n",
    "\n",
    "df = query_EX(c,kolomnamen_voorbeeldquery,homeruns=10)   # Query-functie uitvoeren, geeft resultaat van de query in een DataFrame\n",
    "\n",
    "df.head()                                                # Inspecteer eerste resultaten (laat. head() weg om alles te zien)"
   ]
  },
  {
   "cell_type": "markdown",
   "metadata": {},
   "source": [
    "## 3. Queries \n",
    "\n",
    "Hieronder vinden jullie de modeloplossingen. Door inconsistenties in de gegevensbank worden bij sommige queries meerdere oplossingen als correct aanzien. \n",
    "\n",
    "Bij correctie wordt jullie oplossing vergeleken met elke acceptable oplossing en de hoogste score telt."
   ]
  },
  {
   "cell_type": "code",
   "execution_count": null,
   "metadata": {},
   "outputs": [],
   "source": [
    "display(Markdown(parse_markdown(qry_description_file, section_number=1)))"
   ]
  },
  {
   "cell_type": "markdown",
   "metadata": {},
   "source": [
    "**Oplossing**"
   ]
  },
  {
   "cell_type": "code",
   "execution_count": null,
   "metadata": {},
   "outputs": [],
   "source": [
    "qry_01 = collect_relevant_solutions(ms, query_id=1)\n",
    "\n",
    "# Print oplossing: in dit geval de source code van de geimporteerde python functies uit de `model_solution.py` file\n",
    "for naam, functie, source_code in qry_01:  \n",
    "    print(source_code) "
   ]
  },
  {
   "cell_type": "markdown",
   "metadata": {},
   "source": [
    "**Uitvoering (voorbeeld)**\n",
    "\n",
    "Om een oplossing zelf te runnen, net zoals jullie zelf al deden in de opgave, kan je simpelweg de geimporteerde functies zelf gebruiken. Natuurlijk moet je nog wel de correcte parameters meegeven. \n",
    "\n",
    "De functie `collect_relevant_solutions` geeft een lijst van tupels terug. Zo'n tupel heeft de volgende structuur `(naam,  functie, source_code)`. Om de oplossing te runnen, heb je dus de `functie` nodig uit zo'n tupel. \n",
    "\n",
    "Bijvoorbeeld:"
   ]
  },
  {
   "cell_type": "code",
   "execution_count": null,
   "metadata": {},
   "outputs": [],
   "source": [
    "\"\"\"\n",
    "Stop de eerste functie in een variabele `qry`\n",
    "\n",
    "    1. De eerste index (=0) verwijst naar de eerste mogelijke oplossing (soms zijn er meer)\n",
    "    2. De tweede index (=1) verwijst naar het tweede element van de tupels die `collect_relevant_solutions` teruggeeft. Die\n",
    "       zijn van de vorm (naam, functie, source_code)\n",
    "\"\"\"\n",
    "\n",
    "query_01_sol = qry_01[0][1]                   # Haal de functie eruit, geef nieuwe naam (`query_01_sol`)\n",
    "\n",
    "query_01_sol(c, col_names['query_01']).head() # Deze functie kan je nu gewoon gebruiken alsof je ze zelf gedefinieerd zou hebben!"
   ]
  },
  {
   "cell_type": "code",
   "execution_count": null,
   "metadata": {},
   "outputs": [],
   "source": [
    "display(Markdown(parse_markdown(qry_description_file, section_number=2)))"
   ]
  },
  {
   "cell_type": "markdown",
   "metadata": {},
   "source": [
    "**Oplossing**"
   ]
  },
  {
   "cell_type": "code",
   "execution_count": null,
   "metadata": {},
   "outputs": [],
   "source": [
    "qry_02 = collect_relevant_solutions(ms, query_id=2)\n",
    "\n",
    "# Print solution(s)\n",
    "for name, query, source_code in qry_02:\n",
    "    print(source_code)"
   ]
  },
  {
   "cell_type": "code",
   "execution_count": null,
   "metadata": {},
   "outputs": [],
   "source": [
    "display(Markdown(parse_markdown(qry_description_file, section_number=3)))"
   ]
  },
  {
   "cell_type": "markdown",
   "metadata": {},
   "source": [
    "**Oplossing**"
   ]
  },
  {
   "cell_type": "code",
   "execution_count": null,
   "metadata": {},
   "outputs": [],
   "source": [
    "qry_03 = collect_relevant_solutions(ms, query_id=3)\n",
    "\n",
    "# Print solution(s)\n",
    "for name, query, source_code in qry_03:\n",
    "    print(source_code)"
   ]
  },
  {
   "cell_type": "code",
   "execution_count": null,
   "metadata": {},
   "outputs": [],
   "source": [
    "display(Markdown(parse_markdown(qry_description_file, section_number=4)))"
   ]
  },
  {
   "cell_type": "markdown",
   "metadata": {},
   "source": [
    "**Oplossing**"
   ]
  },
  {
   "cell_type": "code",
   "execution_count": null,
   "metadata": {},
   "outputs": [],
   "source": [
    "qry_04 = collect_relevant_solutions(ms, query_id=4)\n",
    "\n",
    "# Print solution(s)\n",
    "for name, query, source_code in qry_04:\n",
    "    print(source_code)"
   ]
  },
  {
   "cell_type": "code",
   "execution_count": null,
   "metadata": {},
   "outputs": [],
   "source": [
    "display(Markdown(parse_markdown(qry_description_file, section_number=5)))"
   ]
  },
  {
   "cell_type": "markdown",
   "metadata": {},
   "source": [
    "\n",
    "**Oplossing**"
   ]
  },
  {
   "cell_type": "code",
   "execution_count": null,
   "metadata": {},
   "outputs": [],
   "source": [
    "qry_05 = collect_relevant_solutions(ms, query_id=5)\n",
    "\n",
    "# Print solution(s)\n",
    "for name, query, source_code in qry_05:\n",
    "    print(source_code)"
   ]
  },
  {
   "cell_type": "code",
   "execution_count": null,
   "metadata": {},
   "outputs": [],
   "source": [
    "display(Markdown(parse_markdown(qry_description_file, section_number=6)))"
   ]
  },
  {
   "cell_type": "markdown",
   "metadata": {},
   "source": [
    "**Oplossing**"
   ]
  },
  {
   "cell_type": "code",
   "execution_count": null,
   "metadata": {},
   "outputs": [],
   "source": [
    "qry_06 = collect_relevant_solutions(ms, query_id=6)\n",
    "\n",
    "# Print solution(s)\n",
    "for name, query, source_code in qry_06:\n",
    "    print(source_code)"
   ]
  },
  {
   "cell_type": "code",
   "execution_count": null,
   "metadata": {},
   "outputs": [],
   "source": [
    "display(Markdown(parse_markdown(qry_description_file, section_number=7)))"
   ]
  },
  {
   "cell_type": "markdown",
   "metadata": {},
   "source": [
    "**Oplossing**"
   ]
  },
  {
   "cell_type": "code",
   "execution_count": null,
   "metadata": {},
   "outputs": [],
   "source": [
    "qry_07 = collect_relevant_solutions(ms, query_id=7)\n",
    "\n",
    "# Print solution(s)\n",
    "for name, query, source_code in qry_07:\n",
    "    print(source_code)"
   ]
  },
  {
   "cell_type": "code",
   "execution_count": null,
   "metadata": {},
   "outputs": [],
   "source": [
    "display(Markdown(parse_markdown(qry_description_file, section_number=8)))"
   ]
  },
  {
   "cell_type": "markdown",
   "metadata": {},
   "source": [
    "**Oplossing**"
   ]
  },
  {
   "cell_type": "code",
   "execution_count": null,
   "metadata": {},
   "outputs": [],
   "source": [
    "qry_08 = collect_relevant_solutions(ms, query_id=8)\n",
    "\n",
    "# Print solution(s)\n",
    "for name, query, source_code in qry_08:\n",
    "    print(source_code)"
   ]
  },
  {
   "cell_type": "code",
   "execution_count": null,
   "metadata": {},
   "outputs": [],
   "source": [
    "display(Markdown(parse_markdown(qry_description_file, section_number=9)))"
   ]
  },
  {
   "cell_type": "markdown",
   "metadata": {},
   "source": [
    "**Oplossing**"
   ]
  },
  {
   "cell_type": "code",
   "execution_count": null,
   "metadata": {},
   "outputs": [],
   "source": [
    "qry_09 = collect_relevant_solutions(ms, query_id=9)\n",
    "\n",
    "# Print solution(s)\n",
    "for name, query, source_code in qry_09:\n",
    "    print(source_code)"
   ]
  },
  {
   "cell_type": "code",
   "execution_count": null,
   "metadata": {},
   "outputs": [],
   "source": [
    "display(Markdown(parse_markdown(qry_description_file, section_number=10)))"
   ]
  },
  {
   "cell_type": "markdown",
   "metadata": {},
   "source": [
    "**Oplossing**"
   ]
  },
  {
   "cell_type": "code",
   "execution_count": null,
   "metadata": {
    "code_folding": []
   },
   "outputs": [],
   "source": [
    "qry_10 = collect_relevant_solutions(ms, query_id=10)\n",
    "\n",
    "# Print solution(s)\n",
    "for name, query, source_code in qry_10:\n",
    "    print(source_code)"
   ]
  }
 ],
 "metadata": {
  "kernelspec": {
   "display_name": "db-2020",
   "language": "python",
   "name": "db-2020"
  },
  "language_info": {
   "codemirror_mode": {
    "name": "ipython",
    "version": 3
   },
   "file_extension": ".py",
   "mimetype": "text/x-python",
   "name": "python",
   "nbconvert_exporter": "python",
   "pygments_lexer": "ipython3",
   "version": "3.8.1"
  },
  "toc": {
   "nav_menu": {},
   "number_sections": true,
   "sideBar": true,
   "skip_h1_title": true,
   "toc_cell": false,
   "toc_position": {
    "height": "887px",
    "left": "0px",
    "right": "1623px",
    "top": "107px",
    "width": "218px"
   },
   "toc_section_display": true,
   "toc_window_display": true
  },
  "toc-autonumbering": false
 },
 "nbformat": 4,
 "nbformat_minor": 4
}
